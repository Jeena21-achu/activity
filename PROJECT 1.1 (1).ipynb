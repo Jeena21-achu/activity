{
 "cells": [
  {
   "cell_type": "code",
   "execution_count": 1,
   "id": "07eec493",
   "metadata": {},
   "outputs": [],
   "source": [
    "import matplotlib.pyplot as plt  \n",
    "import seaborn as sns  \n",
    "import pandas as pd\n",
    "df= pd.read_csv('C:\\\\Users\\\\DELL\\\\Desktop\\\\India Agriculture Crop Production - India Agriculture Crop Production2.csv')"
   ]
  },
  {
   "cell_type": "code",
   "execution_count": 2,
   "id": "7b545f16",
   "metadata": {},
   "outputs": [
    {
     "data": {
      "text/html": [
       "<div>\n",
       "<style scoped>\n",
       "    .dataframe tbody tr th:only-of-type {\n",
       "        vertical-align: middle;\n",
       "    }\n",
       "\n",
       "    .dataframe tbody tr th {\n",
       "        vertical-align: top;\n",
       "    }\n",
       "\n",
       "    .dataframe thead th {\n",
       "        text-align: right;\n",
       "    }\n",
       "</style>\n",
       "<table border=\"1\" class=\"dataframe\">\n",
       "  <thead>\n",
       "    <tr style=\"text-align: right;\">\n",
       "      <th></th>\n",
       "      <th>State</th>\n",
       "      <th>District</th>\n",
       "      <th>Crop</th>\n",
       "      <th>Year</th>\n",
       "      <th>Season</th>\n",
       "      <th>Area</th>\n",
       "      <th>Area Units</th>\n",
       "      <th>Production</th>\n",
       "      <th>Production Units</th>\n",
       "      <th>Yield</th>\n",
       "    </tr>\n",
       "  </thead>\n",
       "  <tbody>\n",
       "    <tr>\n",
       "      <th>0</th>\n",
       "      <td>Andaman and Nicobar Islands</td>\n",
       "      <td>NICOBARS</td>\n",
       "      <td>Rice</td>\n",
       "      <td>2001-02</td>\n",
       "      <td>Kharif</td>\n",
       "      <td>83.0</td>\n",
       "      <td>Hectare</td>\n",
       "      <td>300.00</td>\n",
       "      <td>Tonnes</td>\n",
       "      <td>3.614458</td>\n",
       "    </tr>\n",
       "    <tr>\n",
       "      <th>1</th>\n",
       "      <td>Andaman and Nicobar Islands</td>\n",
       "      <td>NICOBARS</td>\n",
       "      <td>Rice</td>\n",
       "      <td>2002-03</td>\n",
       "      <td>Kharif</td>\n",
       "      <td>189.2</td>\n",
       "      <td>Hectare</td>\n",
       "      <td>510.84</td>\n",
       "      <td>Tonnes</td>\n",
       "      <td>2.700000</td>\n",
       "    </tr>\n",
       "    <tr>\n",
       "      <th>2</th>\n",
       "      <td>Andaman and Nicobar Islands</td>\n",
       "      <td>NICOBARS</td>\n",
       "      <td>Rice</td>\n",
       "      <td>2003-04</td>\n",
       "      <td>Kharif</td>\n",
       "      <td>52.0</td>\n",
       "      <td>Hectare</td>\n",
       "      <td>90.17</td>\n",
       "      <td>Tonnes</td>\n",
       "      <td>1.734038</td>\n",
       "    </tr>\n",
       "    <tr>\n",
       "      <th>3</th>\n",
       "      <td>Andaman and Nicobar Islands</td>\n",
       "      <td>NORTH AND MIDDLE ANDAMAN</td>\n",
       "      <td>Rice</td>\n",
       "      <td>2001-02</td>\n",
       "      <td>Kharif</td>\n",
       "      <td>9718.0</td>\n",
       "      <td>Hectare</td>\n",
       "      <td>27033.00</td>\n",
       "      <td>Tonnes</td>\n",
       "      <td>2.781745</td>\n",
       "    </tr>\n",
       "    <tr>\n",
       "      <th>4</th>\n",
       "      <td>Andaman and Nicobar Islands</td>\n",
       "      <td>SOUTH ANDAMANS</td>\n",
       "      <td>Rice</td>\n",
       "      <td>2002-03</td>\n",
       "      <td>Kharif</td>\n",
       "      <td>10695.8</td>\n",
       "      <td>Hectare</td>\n",
       "      <td>31600.82</td>\n",
       "      <td>Tonnes</td>\n",
       "      <td>2.954507</td>\n",
       "    </tr>\n",
       "  </tbody>\n",
       "</table>\n",
       "</div>"
      ],
      "text/plain": [
       "                         State                  District  Crop     Year  \\\n",
       "0  Andaman and Nicobar Islands                  NICOBARS  Rice  2001-02   \n",
       "1  Andaman and Nicobar Islands                  NICOBARS  Rice  2002-03   \n",
       "2  Andaman and Nicobar Islands                  NICOBARS  Rice  2003-04   \n",
       "3  Andaman and Nicobar Islands  NORTH AND MIDDLE ANDAMAN  Rice  2001-02   \n",
       "4  Andaman and Nicobar Islands            SOUTH ANDAMANS  Rice  2002-03   \n",
       "\n",
       "   Season     Area Area Units  Production Production Units     Yield  \n",
       "0  Kharif     83.0    Hectare      300.00           Tonnes  3.614458  \n",
       "1  Kharif    189.2    Hectare      510.84           Tonnes  2.700000  \n",
       "2  Kharif     52.0    Hectare       90.17           Tonnes  1.734038  \n",
       "3  Kharif   9718.0    Hectare    27033.00           Tonnes  2.781745  \n",
       "4  Kharif  10695.8    Hectare    31600.82           Tonnes  2.954507  "
      ]
     },
     "execution_count": 2,
     "metadata": {},
     "output_type": "execute_result"
    }
   ],
   "source": [
    "df.head()"
   ]
  },
  {
   "cell_type": "code",
   "execution_count": 3,
   "id": "04661f5b",
   "metadata": {},
   "outputs": [
    {
     "data": {
      "text/plain": [
       "(42350, 10)"
      ]
     },
     "execution_count": 3,
     "metadata": {},
     "output_type": "execute_result"
    }
   ],
   "source": [
    "df.shape"
   ]
  },
  {
   "cell_type": "markdown",
   "id": "9618f47a",
   "metadata": {},
   "source": [
    "We have 42350 rows and 10 columns(including target) in our dataset."
   ]
  },
  {
   "cell_type": "code",
   "execution_count": 4,
   "id": "537e7043",
   "metadata": {},
   "outputs": [
    {
     "data": {
      "text/html": [
       "<div>\n",
       "<style scoped>\n",
       "    .dataframe tbody tr th:only-of-type {\n",
       "        vertical-align: middle;\n",
       "    }\n",
       "\n",
       "    .dataframe tbody tr th {\n",
       "        vertical-align: top;\n",
       "    }\n",
       "\n",
       "    .dataframe thead th {\n",
       "        text-align: right;\n",
       "    }\n",
       "</style>\n",
       "<table border=\"1\" class=\"dataframe\">\n",
       "  <thead>\n",
       "    <tr style=\"text-align: right;\">\n",
       "      <th></th>\n",
       "      <th>Area</th>\n",
       "      <th>Production</th>\n",
       "      <th>Yield</th>\n",
       "    </tr>\n",
       "  </thead>\n",
       "  <tbody>\n",
       "    <tr>\n",
       "      <th>count</th>\n",
       "      <td>42350.000000</td>\n",
       "      <td>4.227400e+04</td>\n",
       "      <td>42350.000000</td>\n",
       "    </tr>\n",
       "    <tr>\n",
       "      <th>mean</th>\n",
       "      <td>45971.820945</td>\n",
       "      <td>1.031435e+05</td>\n",
       "      <td>2.092409</td>\n",
       "    </tr>\n",
       "    <tr>\n",
       "      <th>std</th>\n",
       "      <td>65860.535112</td>\n",
       "      <td>1.712050e+05</td>\n",
       "      <td>1.824679</td>\n",
       "    </tr>\n",
       "    <tr>\n",
       "      <th>min</th>\n",
       "      <td>0.350000</td>\n",
       "      <td>0.000000e+00</td>\n",
       "      <td>0.000000</td>\n",
       "    </tr>\n",
       "    <tr>\n",
       "      <th>25%</th>\n",
       "      <td>2799.250000</td>\n",
       "      <td>4.293000e+03</td>\n",
       "      <td>1.333514</td>\n",
       "    </tr>\n",
       "    <tr>\n",
       "      <th>50%</th>\n",
       "      <td>16703.000000</td>\n",
       "      <td>2.888400e+04</td>\n",
       "      <td>2.026997</td>\n",
       "    </tr>\n",
       "    <tr>\n",
       "      <th>75%</th>\n",
       "      <td>65580.750000</td>\n",
       "      <td>1.286520e+05</td>\n",
       "      <td>2.692289</td>\n",
       "    </tr>\n",
       "    <tr>\n",
       "      <th>max</th>\n",
       "      <td>687000.000000</td>\n",
       "      <td>1.710000e+06</td>\n",
       "      <td>223.727273</td>\n",
       "    </tr>\n",
       "  </tbody>\n",
       "</table>\n",
       "</div>"
      ],
      "text/plain": [
       "                Area    Production         Yield\n",
       "count   42350.000000  4.227400e+04  42350.000000\n",
       "mean    45971.820945  1.031435e+05      2.092409\n",
       "std     65860.535112  1.712050e+05      1.824679\n",
       "min         0.350000  0.000000e+00      0.000000\n",
       "25%      2799.250000  4.293000e+03      1.333514\n",
       "50%     16703.000000  2.888400e+04      2.026997\n",
       "75%     65580.750000  1.286520e+05      2.692289\n",
       "max    687000.000000  1.710000e+06    223.727273"
      ]
     },
     "execution_count": 4,
     "metadata": {},
     "output_type": "execute_result"
    }
   ],
   "source": [
    "df.describe()"
   ]
  },
  {
   "cell_type": "markdown",
   "id": "e7ac7a7a",
   "metadata": {},
   "source": [
    "We can infer that count is same for both Area and Yield.\n",
    "Mean,std  is maximum in area and minimum in production.\n",
    "The maximum value of Area is 687000 hectares and minimum value is 0.35000 hectares."
   ]
  },
  {
   "cell_type": "code",
   "execution_count": 5,
   "id": "17ff07ac",
   "metadata": {},
   "outputs": [
    {
     "data": {
      "text/plain": [
       "Index(['State', 'District', 'Crop', 'Year', 'Season', 'Area', 'Area Units',\n",
       "       'Production', 'Production Units', 'Yield'],\n",
       "      dtype='object')"
      ]
     },
     "execution_count": 5,
     "metadata": {},
     "output_type": "execute_result"
    }
   ],
   "source": [
    "df.columns"
   ]
  },
  {
   "cell_type": "code",
   "execution_count": 6,
   "id": "24024573",
   "metadata": {},
   "outputs": [
    {
     "data": {
      "text/plain": [
       "State                  35\n",
       "District              677\n",
       "Crop                    1\n",
       "Year                   23\n",
       "Season                  6\n",
       "Area                14564\n",
       "Area Units              1\n",
       "Production          16092\n",
       "Production Units        1\n",
       "Yield               19111\n",
       "dtype: int64"
      ]
     },
     "execution_count": 6,
     "metadata": {},
     "output_type": "execute_result"
    }
   ],
   "source": [
    "df.nunique()"
   ]
  },
  {
   "cell_type": "code",
   "execution_count": 7,
   "id": "92c1d560",
   "metadata": {},
   "outputs": [
    {
     "data": {
      "text/plain": [
       "State                object\n",
       "District             object\n",
       "Crop                 object\n",
       "Year                 object\n",
       "Season               object\n",
       "Area                float64\n",
       "Area Units           object\n",
       "Production          float64\n",
       "Production Units     object\n",
       "Yield               float64\n",
       "dtype: object"
      ]
     },
     "execution_count": 7,
     "metadata": {},
     "output_type": "execute_result"
    }
   ],
   "source": [
    "df.dtypes"
   ]
  },
  {
   "cell_type": "markdown",
   "id": "45163313",
   "metadata": {},
   "source": [
    "Only 3 numerical columns are present in our data set.(Area,Production,Yield)"
   ]
  },
  {
   "cell_type": "code",
   "execution_count": 8,
   "id": "4e9762ed",
   "metadata": {},
   "outputs": [
    {
     "data": {
      "text/plain": [
       "76"
      ]
     },
     "execution_count": 8,
     "metadata": {},
     "output_type": "execute_result"
    }
   ],
   "source": [
    "df.isnull().sum().sum()                       #misssing values"
   ]
  },
  {
   "cell_type": "code",
   "execution_count": 9,
   "id": "e249ad1e",
   "metadata": {},
   "outputs": [
    {
     "data": {
      "text/plain": [
       "0"
      ]
     },
     "execution_count": 9,
     "metadata": {},
     "output_type": "execute_result"
    }
   ],
   "source": [
    "df=df.dropna()                                  \n",
    "df.isnull().sum().sum()"
   ]
  },
  {
   "cell_type": "code",
   "execution_count": 10,
   "id": "1ded615d",
   "metadata": {
    "scrolled": true
   },
   "outputs": [
    {
     "data": {
      "image/png": "[encoded data removed]",
      "text/plain": [
       "<Figure size 432x288 with 1 Axes>"
      ]
     },
     "metadata": {
      "needs_background": "light"
     },
     "output_type": "display_data"
    }
   ],
   "source": [
    "df.plot.scatter(x='Area', y='Yield', title= \"Scatter plot between Area and Yields\");"
   ]
  },
  {
   "cell_type": "code",
   "execution_count": 11,
   "id": "568d1692",
   "metadata": {},
   "outputs": [
    {
     "data": {
      "text/plain": [
       "Kharif        19206\n",
       "Summer         7986\n",
       "Winter         6424\n",
       "Autumn         6076\n",
       "Rabi           2434\n",
       "Whole Year      148\n",
       "Name: Season, dtype: int64"
      ]
     },
     "execution_count": 11,
     "metadata": {},
     "output_type": "execute_result"
    }
   ],
   "source": [
    "df['Season'].value_counts()"
   ]
  },
  {
   "cell_type": "code",
   "execution_count": 12,
   "id": "15d6647f",
   "metadata": {},
   "outputs": [
    {
     "data": {
      "text/plain": [
       "(array([    0.,  2500.,  5000.,  7500., 10000., 12500., 15000., 17500.,\n",
       "        20000., 22500.]),\n",
       " [Text(0, 0, ''),\n",
       "  Text(0, 0, ''),\n",
       "  Text(0, 0, ''),\n",
       "  Text(0, 0, ''),\n",
       "  Text(0, 0, ''),\n",
       "  Text(0, 0, ''),\n",
       "  Text(0, 0, ''),\n",
       "  Text(0, 0, ''),\n",
       "  Text(0, 0, ''),\n",
       "  Text(0, 0, '')])"
      ]
     },
     "execution_count": 12,
     "metadata": {},
     "output_type": "execute_result"
    },
    {
     "data": {
      "image/png": "[encoded data removed]",
      "text/plain": [
       "<Figure size 576x576 with 1 Axes>"
      ]
     },
     "metadata": {
      "needs_background": "light"
     },
     "output_type": "display_data"
    }
   ],
   "source": [
    "plt.figure(figsize=(8,8))\n",
    "plt.hist(df['Season'],color='red')\n",
    "plt.xticks()\n",
    "plt.yticks()"
   ]
  },
  {
   "cell_type": "markdown",
   "id": "aab9f4d6",
   "metadata": {},
   "source": [
    "We can infer that crops are cultivated more in Kharif Season."
   ]
  },
  {
   "cell_type": "code",
   "execution_count": 14,
   "id": "047879e8",
   "metadata": {},
   "outputs": [
    {
     "data": {
      "text/plain": [
       "<AxesSubplot:title={'center':'YIELD ON DIFFERENT PERIODS'}, ylabel='Yield'>"
      ]
     },
     "execution_count": 14,
     "metadata": {},
     "output_type": "execute_result"
    },
    {
     "data": {
      "image/png": "[encoded data removed]",
      "text/plain": [
       "<Figure size 432x288 with 1 Axes>"
      ]
     },
     "metadata": {},
     "output_type": "display_data"
    }
   ],
   "source": [
    "df.groupby(['Season']).sum().plot(kind='pie', y='Yield',title='YIELD ON DIFFERENT PERIODS',autopct='%1.0f%%',legend = False, startangle=90)"
   ]
  },
  {
   "cell_type": "markdown",
   "id": "4a64f2f8",
   "metadata": {},
   "source": [
    "The Pie chart shows that the Yield is maximum in Kharif Season."
   ]
  }
 ],
 "metadata": {
  "kernelspec": {
   "display_name": "Python 3",
   "language": "python",
   "name": "python3"
  },
  "language_info": {
   "codemirror_mode": {
    "name": "ipython",
    "version": 3
   },
   "file_extension": ".py",
   "mimetype": "text/x-python",
   "name": "python",
   "nbconvert_exporter": "python",
   "pygments_lexer": "ipython3",
   "version": "3.8.8"
  }
 },
 "nbformat": 4,
 "nbformat_minor": 5
}
