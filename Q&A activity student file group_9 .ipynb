{
 "cells": [
  {
   "cell_type": "markdown",
   "metadata": {
    "id": "4z_Z-K1tlrS7"
   },
   "source": [
    "## 1. Complete the following code to find the area of an equilateral triangle. Output should be as displayed"
   ]
  },
  {
   "cell_type": "code",
   "execution_count": 1,
   "metadata": {
    "id": "rP2qFD_SlrS_"
   },
   "outputs": [
    {
     "name": "stdout",
     "output_type": "stream",
     "text": [
      "Enter the side of the equilateral triangle: 2\n",
      "1.7320508075688772\n"
     ]
    }
   ],
   "source": [
    "import math\n",
    "side = float(input(\"Enter the side of the equilateral triangle: \"))\n",
    "area = ((math.sqrt(3))/4)*pow(side,2)\n",
    "print(area)"
   ]
  },
  {
   "cell_type": "markdown",
   "metadata": {
    "id": "TjVKjIfclrTB"
   },
   "source": [
    "# 2. Write a program to count the number of each characters in a string"
   ]
  },
  {
   "cell_type": "code",
   "execution_count": 2,
   "metadata": {
    "id": "JY5seVUQlrTC"
   },
   "outputs": [
    {
     "name": "stdout",
     "output_type": "stream",
     "text": [
      "Enter the name :jeena\n",
      "Count of characters in the name jeena : {'j': 1, 'e': 2, 'n': 1, 'a': 1}\n"
     ]
    }
   ],
   "source": [
    "name=input('Enter the name :')\n",
    "count={}\n",
    "for i in name:\n",
    "    if i in count:\n",
    "        count[i]+=1\n",
    "    else:\n",
    "        count[i]=1\n",
    "print('Count of characters in the name',name,':',count)"
   ]
  },
  {
   "cell_type": "markdown",
   "metadata": {
    "id": "l3LCULfklrTD"
   },
   "source": [
    "# 3. Write a program to find the area and perimeter of a rectangle using functions"
   ]
  },
  {
   "cell_type": "code",
   "execution_count": 3,
   "metadata": {
    "id": "8haQD8edlrTD"
   },
   "outputs": [
    {
     "name": "stdout",
     "output_type": "stream",
     "text": [
      "enter length of rectangle:2\n",
      "enter breadth of rectangle:3\n",
      "area of rectangle= 6\n",
      "perimter of rectangle= 10\n"
     ]
    }
   ],
   "source": [
    "l=int(input(\"enter length of rectangle:\"))\n",
    "b=int(input(\"enter breadth of rectangle:\"))\n",
    "def area():\n",
    "    area=l*b\n",
    "    return area\n",
    "def perimeter():\n",
    "    perimeter=2*(l+b)\n",
    "    return perimeter\n",
    "\n",
    "print(\"area of rectangle=\",area())\n",
    "print(\"perimter of rectangle=\",perimeter())"
   ]
  },
  {
   "cell_type": "markdown",
   "metadata": {
    "id": "JHK4ZdsflrTE"
   },
   "source": [
    "## 4. Write a program to print the fibonacci series till a specified number"
   ]
  },
  {
   "cell_type": "code",
   "execution_count": 4,
   "metadata": {
    "id": "LyBEj-4SlrTE"
   },
   "outputs": [
    {
     "name": "stdout",
     "output_type": "stream",
     "text": [
      "Enter number: 5\n",
      "0\n",
      "1\n",
      "1\n",
      "2\n",
      "3\n"
     ]
    }
   ],
   "source": [
    "def fibonacci(n):\n",
    "    a=0\n",
    "    b=1\n",
    "    if n==1:\n",
    "        print(a)\n",
    "    else:\n",
    "        print(a)\n",
    "        print(b)\n",
    "        for i in range(0,n-2):\n",
    "            c = a + b\n",
    "            a = b\n",
    "            b = c\n",
    "            print(c)  \n",
    "n = int(input('Enter number: '))\n",
    "fibonacci(n)"
   ]
  },
  {
   "cell_type": "markdown",
   "metadata": {
    "id": "u4uBUcQKlrTE"
   },
   "source": [
    "## 5. Complete the following code to find the minimum of 3 number using cinditional statements. Output should be as displayed"
   ]
  },
  {
   "cell_type": "code",
   "execution_count": 5,
   "metadata": {
    "id": "XdZwrZjIlrTF"
   },
   "outputs": [
    {
     "name": "stdout",
     "output_type": "stream",
     "text": [
      "Enter three numbers followed by  : 2 5 6\n",
      "First number : 2\n",
      "Second number : 5\n",
      "Third number : 6\n",
      "2  is smallest\n"
     ]
    }
   ],
   "source": [
    "a,b,c = input(\"Enter three numbers followed by  : \").split()\n",
    "\n",
    "print(\"First number :\",a)\n",
    "print(\"Second number :\",b)\n",
    "print(\"Third number :\",c)\n",
    "if(a==b)and(a==c):\n",
    "    print(\"Entered numbers are equal!!!\")\n",
    "elif(a<b)and(a<c):\n",
    "    print(a,\" is smallest\")\n",
    "elif(b<a)and(b<c):\n",
    "    print(b,\" is smallest\")\n",
    "elif(c<a)and(c<b):\n",
    "    print(c,\" is smallest\")"
   ]
  },
  {
   "cell_type": "markdown",
   "metadata": {
    "id": "aR_CnToWlrTG"
   },
   "source": [
    "## 6. Write a program to print star pyramind. The number of rows should be taken as input from the user"
   ]
  },
  {
   "cell_type": "code",
   "execution_count": 6,
   "metadata": {},
   "outputs": [
    {
     "name": "stdout",
     "output_type": "stream",
     "text": [
      "Enter the number of rows8\n",
      "       * \n",
      "      * * \n",
      "     * * * \n",
      "    * * * * \n",
      "   * * * * * \n",
      "  * * * * * * \n",
      " * * * * * * * \n",
      "* * * * * * * * \n"
     ]
    }
   ],
   "source": [
    "rows = int(input(\"Enter the number of rows\"))\n",
    "k = rows-1\n",
    "for y in range(rows):\n",
    "    for z in range(0,k):\n",
    "        print(\" \",end=\"\")\n",
    "    k = k - 1\n",
    "    for z in range(y+1):\n",
    "        print(\"* \", end=\"\")\n",
    "    print()"
   ]
  },
  {
   "cell_type": "markdown",
   "metadata": {
    "id": "tlY6aFWBlrTH"
   },
   "source": [
    "## 7. Complete the following code to convert hour into seconds. Output should be as displayed"
   ]
  },
  {
   "cell_type": "code",
   "execution_count": 8,
   "metadata": {
    "id": "YOZQFk7FlrTH"
   },
   "outputs": [
    {
     "name": "stdout",
     "output_type": "stream",
     "text": [
      "Enter the hours :4\n",
      "4  Hour is equal to 14400  Seconds\n"
     ]
    }
   ],
   "source": [
    "def to_seconds(t):\n",
    "    t=t*(60*60)\n",
    "    return t\n",
    "time_in_hours = int(input('Enter the hours :'))\n",
    "print(time_in_hours ,\" Hour is equal to\" ,to_seconds(time_in_hours) ,\" Seconds\")"
   ]
  },
  {
   "cell_type": "markdown",
   "metadata": {
    "id": "CnYorNiLlrTI"
   },
   "source": [
    "## 8. Write a program to print multiplication table as below"
   ]
  },
  {
   "cell_type": "code",
   "execution_count": 9,
   "metadata": {
    "id": "dPQqDPuDlrTI"
   },
   "outputs": [
    {
     "name": "stdout",
     "output_type": "stream",
     "text": [
      "enter number for multiplication: 5\n",
      "1 * 5 = 5\n",
      "2 * 5 = 10\n",
      "3 * 5 = 15\n",
      "4 * 5 = 20\n",
      "5 * 5 = 25\n",
      "6 * 5 = 30\n",
      "7 * 5 = 35\n",
      "8 * 5 = 40\n",
      "9 * 5 = 45\n",
      "10 * 5 = 50\n"
     ]
    }
   ],
   "source": [
    "def mult(n):\n",
    "    for i in range(1,11):\n",
    "        print(i,'*',n,'=',i*n)\n",
    "number=int(input('enter number for multiplication: '))    \n",
    "mult(number)"
   ]
  },
  {
   "cell_type": "markdown",
   "metadata": {
    "id": "Fiaez8iblrTI"
   },
   "source": [
    "## 9. Write a program to take your 5 favorite food as list and print each as 'I like Biriyani'"
   ]
  },
  {
   "cell_type": "code",
   "execution_count": 1,
   "metadata": {
    "id": "39W1zFX7lrTJ"
   },
   "outputs": [
    {
     "name": "stdout",
     "output_type": "stream",
     "text": [
      "Enter your 5 favorite foods :\n",
      "chicken\n",
      "fish\n",
      "juice\n",
      "tea\n",
      "chappathy\n",
      "I like chicken\n",
      "I like fish\n",
      "I like juice\n",
      "I like tea\n",
      "I like chappathy\n"
     ]
    }
   ],
   "source": [
    "list=[]\n",
    "print(\"Enter your 5 favorite foods :\")\n",
    "for i in range(0,5):\n",
    "    food=str(input())\n",
    "    list.append(food)\n",
    "for i in range(0,5):\n",
    "       print(\"I like\",list[i])"
   ]
  },
  {
   "cell_type": "markdown",
   "metadata": {
    "id": "3vlcDNNEP7d_"
   },
   "source": [
    "## 10. Find error(s) in the following code(if any) and rewrite code.\n",
    "\n"
   ]
  },
  {
   "cell_type": "code",
   "execution_count": 9,
   "metadata": {
    "id": "coREkcY3P9sG"
   },
   "outputs": [
    {
     "name": "stdout",
     "output_type": "stream",
     "text": [
      "Enter value of x:2\n",
      "2 and 0 are unequal\n",
      "2 and 1 are unequal\n",
      "2 and 2 are equal\n"
     ]
    }
   ],
   "source": [
    "x=int(input(\"Enter value of x:\"))\n",
    "for y in range(0,10):\n",
    "    if x==y:\n",
    "        print(x,\"and\",y,\"are equal\")\n",
    "        break\n",
    "    else:\n",
    "        print(x,\"and\",y,\"are unequal\")"
   ]
  }
 ],
 "metadata": {
  "colab": {
   "collapsed_sections": [],
   "name": "Q&A activity student file.ipynb",
   "provenance": []
  },
  "kernelspec": {
   "display_name": "Python 3",
   "language": "python",
   "name": "python3"
  },
  "language_info": {
   "codemirror_mode": {
    "name": "ipython",
    "version": 3
   },
   "file_extension": ".py",
   "mimetype": "text/x-python",
   "name": "python",
   "nbconvert_exporter": "python",
   "pygments_lexer": "ipython3",
   "version": "3.8.8"
  }
 },
 "nbformat": 4,
 "nbformat_minor": 1
}
