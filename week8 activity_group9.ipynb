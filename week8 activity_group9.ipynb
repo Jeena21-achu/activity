{
 "cells": [
  {
   "cell_type": "code",
   "execution_count": 64,
   "id": "d3ec6ad2",
   "metadata": {},
   "outputs": [],
   "source": [
    "import numpy as np\n",
    "import seaborn as sns\n",
    "import pandas as pd\n",
    "import scipy.stats as stat"
   ]
  },
  {
   "cell_type": "code",
   "execution_count": 65,
   "id": "eb6d036a",
   "metadata": {},
   "outputs": [],
   "source": [
    "df=pd.read_csv(\"C:\\\\Users\\\\DELL\\\\Desktop\\\\ICT REF\\\\group activity\\\\8\\\\Week_8_Q&A_dataset - Sheet1.csv\")"
   ]
  },
  {
   "cell_type": "code",
   "execution_count": 66,
   "id": "005f39f3",
   "metadata": {},
   "outputs": [
    {
     "data": {
      "text/html": [
       "<div>\n",
       "<style scoped>\n",
       "    .dataframe tbody tr th:only-of-type {\n",
       "        vertical-align: middle;\n",
       "    }\n",
       "\n",
       "    .dataframe tbody tr th {\n",
       "        vertical-align: top;\n",
       "    }\n",
       "\n",
       "    .dataframe thead th {\n",
       "        text-align: right;\n",
       "    }\n",
       "</style>\n",
       "<table border=\"1\" class=\"dataframe\">\n",
       "  <thead>\n",
       "    <tr style=\"text-align: right;\">\n",
       "      <th></th>\n",
       "      <th>Gender</th>\n",
       "      <th>Test preparation</th>\n",
       "      <th>Total Marks</th>\n",
       "    </tr>\n",
       "  </thead>\n",
       "  <tbody>\n",
       "    <tr>\n",
       "      <th>0</th>\n",
       "      <td>male</td>\n",
       "      <td>none</td>\n",
       "      <td>14</td>\n",
       "    </tr>\n",
       "    <tr>\n",
       "      <th>1</th>\n",
       "      <td>female</td>\n",
       "      <td>none</td>\n",
       "      <td>28</td>\n",
       "    </tr>\n",
       "    <tr>\n",
       "      <th>2</th>\n",
       "      <td>female</td>\n",
       "      <td>none</td>\n",
       "      <td>18</td>\n",
       "    </tr>\n",
       "    <tr>\n",
       "      <th>3</th>\n",
       "      <td>female</td>\n",
       "      <td>none</td>\n",
       "      <td>48</td>\n",
       "    </tr>\n",
       "    <tr>\n",
       "      <th>4</th>\n",
       "      <td>female</td>\n",
       "      <td>none</td>\n",
       "      <td>21</td>\n",
       "    </tr>\n",
       "  </tbody>\n",
       "</table>\n",
       "</div>"
      ],
      "text/plain": [
       "   Gender Test preparation  Total Marks\n",
       "0    male             none           14\n",
       "1  female             none           28\n",
       "2  female             none           18\n",
       "3  female             none           48\n",
       "4  female             none           21"
      ]
     },
     "execution_count": 66,
     "metadata": {},
     "output_type": "execute_result"
    }
   ],
   "source": [
    "df.head()"
   ]
  },
  {
   "cell_type": "markdown",
   "id": "59f6da46",
   "metadata": {},
   "source": [
    "# 1. Carry out descriptive analytics on the dataset."
   ]
  },
  {
   "cell_type": "code",
   "execution_count": 67,
   "id": "39232ec0",
   "metadata": {},
   "outputs": [
    {
     "data": {
      "text/html": [
       "<div>\n",
       "<style scoped>\n",
       "    .dataframe tbody tr th:only-of-type {\n",
       "        vertical-align: middle;\n",
       "    }\n",
       "\n",
       "    .dataframe tbody tr th {\n",
       "        vertical-align: top;\n",
       "    }\n",
       "\n",
       "    .dataframe thead th {\n",
       "        text-align: right;\n",
       "    }\n",
       "</style>\n",
       "<table border=\"1\" class=\"dataframe\">\n",
       "  <thead>\n",
       "    <tr style=\"text-align: right;\">\n",
       "      <th></th>\n",
       "      <th>Gender</th>\n",
       "      <th>Test preparation</th>\n",
       "      <th>Total Marks</th>\n",
       "    </tr>\n",
       "  </thead>\n",
       "  <tbody>\n",
       "    <tr>\n",
       "      <th>count</th>\n",
       "      <td>28</td>\n",
       "      <td>28</td>\n",
       "      <td>28.000000</td>\n",
       "    </tr>\n",
       "    <tr>\n",
       "      <th>unique</th>\n",
       "      <td>2</td>\n",
       "      <td>2</td>\n",
       "      <td>NaN</td>\n",
       "    </tr>\n",
       "    <tr>\n",
       "      <th>top</th>\n",
       "      <td>female</td>\n",
       "      <td>none</td>\n",
       "      <td>NaN</td>\n",
       "    </tr>\n",
       "    <tr>\n",
       "      <th>freq</th>\n",
       "      <td>16</td>\n",
       "      <td>21</td>\n",
       "      <td>NaN</td>\n",
       "    </tr>\n",
       "    <tr>\n",
       "      <th>mean</th>\n",
       "      <td>NaN</td>\n",
       "      <td>NaN</td>\n",
       "      <td>32.321429</td>\n",
       "    </tr>\n",
       "    <tr>\n",
       "      <th>std</th>\n",
       "      <td>NaN</td>\n",
       "      <td>NaN</td>\n",
       "      <td>12.454520</td>\n",
       "    </tr>\n",
       "    <tr>\n",
       "      <th>min</th>\n",
       "      <td>NaN</td>\n",
       "      <td>NaN</td>\n",
       "      <td>12.000000</td>\n",
       "    </tr>\n",
       "    <tr>\n",
       "      <th>25%</th>\n",
       "      <td>NaN</td>\n",
       "      <td>NaN</td>\n",
       "      <td>22.500000</td>\n",
       "    </tr>\n",
       "    <tr>\n",
       "      <th>50%</th>\n",
       "      <td>NaN</td>\n",
       "      <td>NaN</td>\n",
       "      <td>33.000000</td>\n",
       "    </tr>\n",
       "    <tr>\n",
       "      <th>75%</th>\n",
       "      <td>NaN</td>\n",
       "      <td>NaN</td>\n",
       "      <td>43.250000</td>\n",
       "    </tr>\n",
       "    <tr>\n",
       "      <th>max</th>\n",
       "      <td>NaN</td>\n",
       "      <td>NaN</td>\n",
       "      <td>50.000000</td>\n",
       "    </tr>\n",
       "  </tbody>\n",
       "</table>\n",
       "</div>"
      ],
      "text/plain": [
       "        Gender Test preparation  Total Marks\n",
       "count       28               28    28.000000\n",
       "unique       2                2          NaN\n",
       "top     female             none          NaN\n",
       "freq        16               21          NaN\n",
       "mean       NaN              NaN    32.321429\n",
       "std        NaN              NaN    12.454520\n",
       "min        NaN              NaN    12.000000\n",
       "25%        NaN              NaN    22.500000\n",
       "50%        NaN              NaN    33.000000\n",
       "75%        NaN              NaN    43.250000\n",
       "max        NaN              NaN    50.000000"
      ]
     },
     "execution_count": 67,
     "metadata": {},
     "output_type": "execute_result"
    }
   ],
   "source": [
    "df.describe(include='all')"
   ]
  },
  {
   "cell_type": "code",
   "execution_count": 68,
   "id": "9f08cd4c",
   "metadata": {},
   "outputs": [
    {
     "data": {
      "text/plain": [
       "Gender              0\n",
       "Test preparation    0\n",
       "Total Marks         0\n",
       "dtype: int64"
      ]
     },
     "execution_count": 68,
     "metadata": {},
     "output_type": "execute_result"
    }
   ],
   "source": [
    "df.isnull().sum()"
   ]
  },
  {
   "cell_type": "markdown",
   "id": "535caf52",
   "metadata": {},
   "source": [
    "# 2. Check whether female and male students scored the same marks."
   ]
  },
  {
   "cell_type": "code",
   "execution_count": 69,
   "id": "77587c9b",
   "metadata": {},
   "outputs": [
    {
     "data": {
      "text/plain": [
       "female    16\n",
       "male      12\n",
       "Name: Gender, dtype: int64"
      ]
     },
     "execution_count": 69,
     "metadata": {},
     "output_type": "execute_result"
    }
   ],
   "source": [
    "df['Gender'].value_counts()"
   ]
  },
  {
   "cell_type": "markdown",
   "id": "e3722737",
   "metadata": {},
   "source": [
    "Hypothesis:\n",
    "H0 : Male and Female students scored the same marks.\n",
    "H1 : Male and Female students scored different marks."
   ]
  },
  {
   "cell_type": "code",
   "execution_count": 70,
   "id": "1f97bb25",
   "metadata": {},
   "outputs": [
    {
     "data": {
      "text/plain": [
       "Ttest_indResult(statistic=-0.6940885268848668, pvalue=0.4937822317960763)"
      ]
     },
     "execution_count": 70,
     "metadata": {},
     "output_type": "execute_result"
    }
   ],
   "source": [
    "x=np.array(df[df['Gender']=='male']['Total Marks'])\n",
    "y=np.array(df[df['Gender']=='female']['Total Marks'])\n",
    "stat.ttest_ind(x,y,alternative='two-sided')"
   ]
  },
  {
   "cell_type": "markdown",
   "id": "0d24fc09",
   "metadata": {},
   "source": [
    "alpha=0.05\n",
    "here,p-value > 0.05"
   ]
  },
  {
   "cell_type": "markdown",
   "id": "2f364344",
   "metadata": {},
   "source": [
    "so,we accept null hypothesis.\n",
    "Therefore,marks scored by male and female are same."
   ]
  },
  {
   "cell_type": "markdown",
   "id": "fba2cb6a",
   "metadata": {},
   "source": [
    "# 3.Whether test preparation helps the students"
   ]
  },
  {
   "cell_type": "code",
   "execution_count": 71,
   "id": "56262cdb",
   "metadata": {},
   "outputs": [
    {
     "data": {
      "text/plain": [
       "none         21\n",
       "completed     7\n",
       "Name: Test preparation, dtype: int64"
      ]
     },
     "execution_count": 71,
     "metadata": {},
     "output_type": "execute_result"
    }
   ],
   "source": [
    "df['Test preparation'].value_counts()"
   ]
  },
  {
   "cell_type": "markdown",
   "id": "7c4f5ca9",
   "metadata": {},
   "source": [
    "Hypothesis:\n",
    "H0 : mean score of sudents who have taken the preparation course <= those who haven't\n",
    "\n",
    "H1 : mean score of sudents who have taken the preparation course > those who haven't"
   ]
  },
  {
   "cell_type": "code",
   "execution_count": 72,
   "id": "26e793fc",
   "metadata": {},
   "outputs": [],
   "source": [
    "x1=np.array(df[df['Test preparation']=='completed']['Total Marks'])\n",
    "y1=np.array(df[df['Test preparation']=='none']['Total Marks'])"
   ]
  },
  {
   "cell_type": "code",
   "execution_count": 73,
   "id": "fa8cdca2",
   "metadata": {},
   "outputs": [
    {
     "data": {
      "text/plain": [
       "Ttest_indResult(statistic=3.6143637527769217, pvalue=0.0006335646228660053)"
      ]
     },
     "execution_count": 73,
     "metadata": {},
     "output_type": "execute_result"
    }
   ],
   "source": [
    "stat.ttest_ind(x1,y1,alternative='greater')"
   ]
  },
  {
   "cell_type": "markdown",
   "id": "239513a8",
   "metadata": {},
   "source": [
    "alpha=0.05\n",
    "p-value<0.05\n",
    "So,we reject the null hypothesis\n",
    "\n",
    "Therefore,the test preparation course was helpful for the students"
   ]
  },
  {
   "cell_type": "code",
   "execution_count": 74,
   "id": "2406742e",
   "metadata": {},
   "outputs": [
    {
     "data": {
      "text/plain": [
       "44.57142857142857"
      ]
     },
     "execution_count": 74,
     "metadata": {},
     "output_type": "execute_result"
    }
   ],
   "source": [
    "x1.mean()"
   ]
  },
  {
   "cell_type": "code",
   "execution_count": 75,
   "id": "6c0eb16a",
   "metadata": {},
   "outputs": [
    {
     "data": {
      "text/plain": [
       "28.238095238095237"
      ]
     },
     "execution_count": 75,
     "metadata": {},
     "output_type": "execute_result"
    }
   ],
   "source": [
    "y1.mean()"
   ]
  },
  {
   "cell_type": "code",
   "execution_count": null,
   "id": "ac1f543f",
   "metadata": {},
   "outputs": [],
   "source": []
  }
 ],
 "metadata": {
  "kernelspec": {
   "display_name": "Python 3",
   "language": "python",
   "name": "python3"
  },
  "language_info": {
   "codemirror_mode": {
    "name": "ipython",
    "version": 3
   },
   "file_extension": ".py",
   "mimetype": "text/x-python",
   "name": "python",
   "nbconvert_exporter": "python",
   "pygments_lexer": "ipython3",
   "version": "3.8.8"
  }
 },
 "nbformat": 4,
 "nbformat_minor": 5
}
